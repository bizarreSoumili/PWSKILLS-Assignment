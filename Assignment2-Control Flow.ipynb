{
 "cells": [
  {
   "cell_type": "code",
   "execution_count": 2,
   "id": "fadd9ceb-7cd0-4b37-9666-b6c5b89f7ba9",
   "metadata": {},
   "outputs": [
    {
     "name": "stdin",
     "output_type": "stream",
     "text": [
      "Enter the percentage 80\n"
     ]
    },
    {
     "name": "stdout",
     "output_type": "stream",
     "text": [
      "Grade: C\n"
     ]
    }
   ],
   "source": [
    "' 1. Write a program to accept percentage from user and display grade.'\n",
    "a=int(input(\"Enter the percentage\"))\n",
    "if(a>90):\n",
    "    print(\"Grade: A\")\n",
    "elif(a>80 and a<=90):\n",
    "    print(\"Grade: B\")\n",
    "elif(a>=60 and a<=80):\n",
    "    print(\"Grade: C\")\n",
    "else:\n",
    "    print(\"Grade D\")"
   ]
  },
  {
   "cell_type": "code",
   "execution_count": 3,
   "id": "41616bf9-844b-49a0-aa0a-1ebaad19d50e",
   "metadata": {},
   "outputs": [
    {
     "name": "stdin",
     "output_type": "stream",
     "text": [
      "Enter the cost of the bike 100000\n"
     ]
    },
    {
     "name": "stdout",
     "output_type": "stream",
     "text": [
      "The road tax: 10\n"
     ]
    }
   ],
   "source": [
    "' 2. Write a program to accept the cost price of a bike and display the road tax to be paid.'\n",
    "c=int(input(\"Enter the cost of the bike\"))\n",
    "if(c>100000):\n",
    "    t=15\n",
    "elif(c<=100000 and c>50000):\n",
    "    t=10\n",
    "elif(c<=50000):\n",
    "    t=5\n",
    "print(\"The road tax: {}\".format(t))"
   ]
  },
  {
   "cell_type": "code",
   "execution_count": 5,
   "id": "caa37151-5219-4890-8d6c-0d4cdf420079",
   "metadata": {},
   "outputs": [
    {
     "name": "stdin",
     "output_type": "stream",
     "text": [
      "Enter the city Agra\n"
     ]
    },
    {
     "name": "stdout",
     "output_type": "stream",
     "text": [
      "Monument:Taj Mahal\n"
     ]
    }
   ],
   "source": [
    "'3. Accept any city from the user and display monuments of that city'\n",
    "ci=input(\"Enter the city\")\n",
    "if(ci==\"Delhi\"):\n",
    "    print(\"Monument: Red Fort\")\n",
    "elif(ci==\"Agra\"):\n",
    "    print(\"Monument:Taj Mahal\")\n",
    "elif(ci==\"Jaipur\"):\n",
    "    print(\"Monument:Jal Mahal\")"
   ]
  },
  {
   "cell_type": "code",
   "execution_count": 9,
   "id": "2dfbaefd-94f7-4f10-8812-4f5f56c210ec",
   "metadata": {},
   "outputs": [
    {
     "name": "stdin",
     "output_type": "stream",
     "text": [
      "Enter a number 21\n"
     ]
    },
    {
     "name": "stdout",
     "output_type": "stream",
     "text": [
      "The no of times: 1\n"
     ]
    }
   ],
   "source": [
    "' 4. Check how many times a given no can be divided by 3 before it is less than or equal to 10.'\n",
    "n=int(input(\"Enter a number\"))\n",
    "b=0\n",
    "while(1):\n",
    "    if(n%3==0 and n>10):\n",
    "        b=b+1\n",
    "        n=n/3\n",
    "    else:\n",
    "        break\n",
    "print(\"The no of times:\",b)"
   ]
  },
  {
   "cell_type": "code",
   "execution_count": 12,
   "id": "8c084a9c-88b8-4b45-889b-6c2c36b77492",
   "metadata": {},
   "outputs": [
    {
     "name": "stdin",
     "output_type": "stream",
     "text": [
      "Enter a number 270\n"
     ]
    },
    {
     "name": "stdout",
     "output_type": "stream",
     "text": [
      "The no of times: 3\n"
     ]
    }
   ],
   "source": [
    "' 5. Why and When to use while loop in Python give a detailed description with example.'\n",
    "'Ans: A while loop in Python is used to repeatedly execute a block of code as long as a specified condition is true.' \n",
    "'It is often used when the number of iterations is not fixed and depends on certain conditions.'\n",
    "'When to use a while loop:'\n",
    "'When you do not know the number of iterations beforehand: If you need to repeat a block of code until a certain condition is met, but you do not know in advance how many iterations it will take, a while loop is suitable.'\n",
    "\n",
    "'Continuous checking for conditions: While loops are ideal for scenarios where you need to continuously check a condition before executing a block of code.'\n",
    "\n",
    "'User input validation: While loops are often used to validate user input. They repeatedly prompt the user for input until the input meets certain criteria.'\n",
    "\n",
    "'Processing items in a list or sequence: While loops can be used to iterate through items in a list or sequence until a specific condition is met.'\n",
    "\n",
    "\n",
    "n=int(input(\"Enter a number\"))\n",
    "b=0\n",
    "while(1):\n",
    "    if(n%3==0 and n>10):\n",
    "        b=b+1\n",
    "        n=n/3\n",
    "    else:\n",
    "        break\n",
    "print(\"The no of times:\",b)"
   ]
  },
  {
   "cell_type": "code",
   "execution_count": 15,
   "id": "7d0e04c1-1fd4-4fa9-b701-ec830050b797",
   "metadata": {},
   "outputs": [
    {
     "name": "stdout",
     "output_type": "stream",
     "text": [
      "Pattern 1\n",
      "*****\n",
      "****\n",
      "***\n",
      "**\n",
      "*\n",
      "Pattern 2\n",
      "*\n",
      "**\n",
      "***\n",
      "****\n",
      "*****\n",
      "Pattern 3:\n",
      "*\n",
      "\n",
      "**\n",
      "\n",
      "***\n",
      "\n",
      "****\n",
      "\n",
      "*****\n",
      "\n"
     ]
    }
   ],
   "source": [
    "'6. Use nested while loop to print 3 different pattern'\n",
    "\n",
    "print(\"Pattern 1\")\n",
    "i=5\n",
    "while(i>0):\n",
    "    j=i\n",
    "    while(j>0):\n",
    "        print(\"*\",end=\"\")\n",
    "        j=j-1\n",
    "    i=i-1\n",
    "    print()\n",
    "    \n",
    "print(\"Pattern 2\")\n",
    "n=5\n",
    "\n",
    "for i in range(0, n):\n",
    "    for j in range(0, i+1):\n",
    "        print(\"*\", end=\"\")\n",
    "    print(\"\\r\")\n",
    "    \n",
    "print(\"Pattern 3:\")\n",
    "n=5\n",
    "\n",
    "for i in range(0, n):\n",
    "    for j in range(0, i+1):\n",
    "        print(\"*\", end=\"\")\n",
    "    print(\"\\n\")"
   ]
  },
  {
   "cell_type": "code",
   "execution_count": 16,
   "id": "a9ea92f6-ccd7-4474-aa24-d23d0b65ac0c",
   "metadata": {},
   "outputs": [
    {
     "name": "stdout",
     "output_type": "stream",
     "text": [
      "10\n",
      "9\n",
      "8\n",
      "7\n",
      "6\n",
      "5\n",
      "4\n",
      "3\n",
      "2\n",
      "1\n"
     ]
    }
   ],
   "source": [
    "' 7. Reverse a number to display nos from 10 to 1.'\n",
    "i=10\n",
    "while(i>0):\n",
    "    print(i)\n",
    "    i-=1"
   ]
  }
 ],
 "metadata": {
  "kernelspec": {
   "display_name": "Python 3 (ipykernel)",
   "language": "python",
   "name": "python3"
  },
  "language_info": {
   "codemirror_mode": {
    "name": "ipython",
    "version": 3
   },
   "file_extension": ".py",
   "mimetype": "text/x-python",
   "name": "python",
   "nbconvert_exporter": "python",
   "pygments_lexer": "ipython3",
   "version": "3.10.8"
  }
 },
 "nbformat": 4,
 "nbformat_minor": 5
}
